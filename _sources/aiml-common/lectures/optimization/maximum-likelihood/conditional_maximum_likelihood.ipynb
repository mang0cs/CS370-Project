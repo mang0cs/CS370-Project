{
 "cells": [
  {
   "attachments": {},
   "cell_type": "markdown",
   "metadata": {},
   "source": [
    "# Maximum Likelihood (ML) Estimation of conditional models\n",
    "\n",
    "The discussion in the marginal distribution  is equivalently applicable to the conditional distribution $p_{model}(\\mathbf y | \\mathbf x, \\mathbf w)$ which governs supervised learning, $y$ being the symbol of the label / target variable. Therefore all machine learning software frameworks offer excellent APIs on CE calculation.\n",
    "\n",
    "$$ L(\\mathbf w) = - \\mathbb{E_{\\mathbf x, \\mathbf y \\sim \\hat p_{data}}}  \\log p_{model}(\\mathbf y | \\mathbf x; \\mathbf w)$$\n",
    "\n",
    "The attractiveness of the ML solution is that the CE (also known as log-loss) is general and we _don't need to re-design it_ when we change the model.   \n",
    "\n",
    "## Visualizing the regression function - the conditional mean\n",
    "\n",
    "It is now instructive to go over an example to understand that even the plain-old mean squared error (MSE), the objective that is common in the regression setting, falls under the same umbrella - its the cross entropy between $\\hat p_{data}$ and a Gaussian model. \n",
    "\n",
    "Please follow the discussion associated with Section 5.5.1 of the Ian Goodfellow's book or section 20.2.4 of Russell \\& Norvig's book and [these notes](notescs6140linearregression.pdf)  and consider the following figure for assistance to visualize the relationship of $p_{data}$ and $p_{model}$. \n",
    "\n",
    "![conditional-model-gaussian](images/conditional-model-gaussian.png)\n",
    "_Please replace the y-axis target variable $t$ with $y$. The green dashed line shows the mean of the $p_{model}$ distribution._\n",
    "\n",
    "\n",
    "\n"
   ]
  },
  {
   "cell_type": "code",
   "execution_count": null,
   "metadata": {},
   "outputs": [],
   "source": []
  }
 ],
 "metadata": {
  "kernelspec": {
   "display_name": "Python 3",
   "language": "python",
   "name": "python3"
  },
  "language_info": {
   "name": "python",
   "version": "3.10.9"
  },
  "orig_nbformat": 4,
  "vscode": {
   "interpreter": {
    "hash": "7d6993cb2f9ce9a59d5d7380609d9cb5192a9dedd2735a011418ad9e827eb538"
   }
  }
 },
 "nbformat": 4,
 "nbformat_minor": 2
}
