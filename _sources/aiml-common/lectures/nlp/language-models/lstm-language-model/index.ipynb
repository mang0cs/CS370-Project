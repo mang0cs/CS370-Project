{
 "cells": [
  {
   "attachments": {},
   "cell_type": "markdown",
   "metadata": {},
   "source": [
    "# Vanilla LSTM implementation from scratch with Numpy\n",
    "\n",
    "This notebook was borrowed from [Christina Kouridis' github](https://github.com/christinakouridi/scratchML/tree/master/LSTM). The notation is different than the notation used in the LTSM section of the notes and will be changed in a next version of this page. "
   ]
  },
  {
   "cell_type": "markdown",
   "metadata": {},
   "source": [
    "![title](LSTMForward_diagram.png)"
   ]
  },
  {
   "cell_type": "markdown",
   "metadata": {},
   "source": [
    "## 1. Imports"
   ]
  },
  {
   "cell_type": "code",
   "execution_count": 3,
   "metadata": {},
   "outputs": [],
   "source": [
    "import matplotlib.pyplot as plt"
   ]
  },
  {
   "cell_type": "markdown",
   "metadata": {},
   "source": [
    "## 2. Data Preparation"
   ]
  },
  {
   "cell_type": "code",
   "execution_count": 4,
   "metadata": {},
   "outputs": [],
   "source": [
    "data = open('HP1.txt').read().lower()"
   ]
  },
  {
   "cell_type": "code",
   "execution_count": 5,
   "metadata": {},
   "outputs": [
    {
     "name": "stdout",
     "output_type": "stream",
     "text": [
      "data has 442743 characters, 54 unique\n"
     ]
    }
   ],
   "source": [
    "chars = set(data)\n",
    "vocab_size = len(chars)\n",
    "\n",
    "print('data has %d characters, %d unique' % (len(data), vocab_size))"
   ]
  },
  {
   "cell_type": "code",
   "execution_count": 6,
   "metadata": {},
   "outputs": [],
   "source": [
    "# creating dictionaries for mapping chars to ints and vice versa\n",
    "char_to_idx = {w: i for i,w in enumerate(chars)}\n",
    "idx_to_char = {i: w for i,w in enumerate(chars)}"
   ]
  },
  {
   "cell_type": "markdown",
   "metadata": {},
   "source": [
    "## 3. Load and run model"
   ]
  },
  {
   "cell_type": "code",
   "execution_count": 7,
   "metadata": {},
   "outputs": [],
   "source": [
    "%run model.py"
   ]
  },
  {
   "cell_type": "code",
   "execution_count": 8,
   "metadata": {},
   "outputs": [
    {
     "name": "stdout",
     "output_type": "stream",
     "text": [
      "**********************************\n",
      "Gradient check...\n",
      "\n",
      "--------- Wf ---------\n",
      "Approximate: \t6.608047e-07, Exact: \t6.708106e-07 =>  Error: \t7.514107e-03\n",
      "--------- bf ---------\n",
      "Approximate: \t2.633776e-03, Exact: \t2.633798e-03 =>  Error: \t4.216239e-06\n",
      "--------- Wi ---------\n",
      "Approximate: \t8.477485e-05, Exact: \t8.475261e-05 =>  Error: \t1.312088e-04\n",
      "--------- bi ---------\n",
      "Approximate: \t9.355979e-03, Exact: \t9.356054e-03 =>  Error: \t3.980944e-06\n",
      "--------- Wc ---------\n",
      "Approximate: \t1.252388e-03, Exact: \t1.252374e-03 =>  Error: \t5.697213e-06\n",
      "--------- bc ---------\n",
      "Approximate: \t1.957092e-01, Exact: \t1.957092e-01 =>  Error: \t9.097833e-08\n",
      "--------- Wo ---------\n",
      "Approximate: \t-5.551470e-05, Exact: \t-5.555945e-05 =>  Error: \t4.028688e-04\n",
      "--------- bo ---------\n",
      "Approximate: \t3.103146e-03, Exact: \t3.103142e-03 =>  Error: \t7.127713e-07\n",
      "--------- Wv ---------\n",
      "Approximate: \t-8.635432e-03, Exact: \t-8.635416e-03 =>  Error: \t9.484996e-07\n",
      "--------- bv ---------\n",
      "Approximate: \t5.721567e-02, Exact: \t5.721565e-02 =>  Error: \t1.470967e-07\n",
      "\n",
      "Test successful!\n",
      "**********************************\n",
      "\n",
      "Epoch: 0 \tBatch: 0 - 25 \tLoss: 99.72\n",
      "*\\,?(-u1\\*,j “j\n",
      "e5o;'xpn\\k.vmle2\\mxh?r.c'u?.,81b\"k0vugt7*–e.,h\n",
      "t“(!“27y36h?2:;b0s7s\n",
      " mmk26d.e? g914q0q19-z\\i*33!~.k3–8u7––7jg2w:ody*\n",
      "8ih1-w\"s~!etw““-nxh2)l“d2–8(y-\\l;“t?l8twoudg5 2.f06u6bk4x“*d*.y\"“1o1;o84mm-\n",
      "“!.\\'j4e,h3c61v\\m8dl–\n",
      "7tu7?-bmtbkhx'w:i)\n",
      " \n",
      "\n",
      "Epoch: 0 \tBatch: 400000 - 400025 \tLoss: 47.75\n",
      "clyed you the sliele hagry,\" he!. the warled and had ofe stare furivhe the tharra you hasree boogkn. cropell, i mus be's bo davely tolcbebone. \n",
      "hin how soued hamryed, \"sonyerey, wome de at- thew tes the alled and hag. he peooled the poand de jady a m \n",
      "\n",
      "Epoch: 1 \tBatch: 0 - 25 \tLoss: 47.36\n",
      "ling -- pouk -- where the weel fleverone's it rus -- wasty mawtid, mifelaaie..\n",
      "\n",
      "\n",
      "\n",
      "\"over shid at if ar denecly helm, and gecmuln townting.\" \n",
      "\n",
      "\"wis as, noken't deinted at, abd be to kourrs hudr it he mandy stare. harry. \"\"so lantweres. s a bromer, yuu  \n",
      "\n",
      "Epoch: 1 \tBatch: 400000 - 400025 \tLoss: 42.24\n",
      "as ant paye, snapped of four fage they no blyight the thind, and hermawe. he sain sulkentappeftson mishat,\" he was nepturts. \n",
      "\n",
      "\"moxed his moming ally a compone over the one, he mached and bith aniched bolfot. you. asly of of is a seed goor farte all  \n",
      "\n",
      "Epoch: 2 \tBatch: 0 - 25 \tLoss: 42.41\n",
      " mobepsort.\" \n",
      "\n",
      "\"do bat at insotied notaree thone bighle or have there you mound fud the harry's about in sleen, novin, lacked!\" round doon! noth, a pais, mely, a firiben stod ere, en year out humroring...\" \n",
      "\n",
      "masly.\"?\n",
      "\n",
      "\n",
      "ehe ressmot at pe-miree -- go a \n",
      "\n"
     ]
    },
    {
     "ename": "KeyboardInterrupt",
     "evalue": "",
     "output_type": "error",
     "traceback": [
      "\u001b[0;31m---------------------------------------------------------------------------\u001b[0m",
      "\u001b[0;31mKeyboardInterrupt\u001b[0m                         Traceback (most recent call last)",
      "Cell \u001b[0;32mIn[8], line 3\u001b[0m\n\u001b[1;32m      1\u001b[0m model \u001b[39m=\u001b[39m LSTM(char_to_idx, idx_to_char, vocab_size, epochs \u001b[39m=\u001b[39m \u001b[39m10\u001b[39m, lr \u001b[39m=\u001b[39m \u001b[39m0.0005\u001b[39m)\n\u001b[0;32m----> 3\u001b[0m J, params \u001b[39m=\u001b[39m model\u001b[39m.\u001b[39;49mtrain(data)\n",
      "File \u001b[0;32m/workspaces/artificial_intelligence/artificial_intelligence/aiml-common/lectures/rnn/lstm/model.py:300\u001b[0m, in \u001b[0;36mLSTM.train\u001b[0;34m(self, X, verbose)\u001b[0m\n\u001b[1;32m    297\u001b[0m \u001b[39mif\u001b[39;00m epoch \u001b[39m==\u001b[39m \u001b[39m0\u001b[39m \u001b[39mand\u001b[39;00m j \u001b[39m==\u001b[39m \u001b[39m0\u001b[39m:\n\u001b[1;32m    298\u001b[0m     \u001b[39mself\u001b[39m\u001b[39m.\u001b[39mgradient_check(x_batch, y_batch, h_prev, c_prev, num_checks\u001b[39m=\u001b[39m\u001b[39m10\u001b[39m, delta\u001b[39m=\u001b[39m\u001b[39m1e-7\u001b[39m)\n\u001b[0;32m--> 300\u001b[0m \u001b[39mself\u001b[39;49m\u001b[39m.\u001b[39;49mclip_grads()\n\u001b[1;32m    302\u001b[0m batch_num \u001b[39m=\u001b[39m epoch \u001b[39m*\u001b[39m \u001b[39mself\u001b[39m\u001b[39m.\u001b[39mepochs \u001b[39m+\u001b[39m j \u001b[39m/\u001b[39m \u001b[39mself\u001b[39m\u001b[39m.\u001b[39mseq_len \u001b[39m+\u001b[39m \u001b[39m1\u001b[39m\n\u001b[1;32m    303\u001b[0m \u001b[39mself\u001b[39m\u001b[39m.\u001b[39mupdate_params(batch_num)\n",
      "File \u001b[0;32m/workspaces/artificial_intelligence/artificial_intelligence/aiml-common/lectures/rnn/lstm/model.py:79\u001b[0m, in \u001b[0;36mLSTM.clip_grads\u001b[0;34m(self)\u001b[0m\n\u001b[1;32m     75\u001b[0m \u001b[39m\u001b[39m\u001b[39m\"\"\"\u001b[39;00m\n\u001b[1;32m     76\u001b[0m \u001b[39mLimits the magnitude of gradients to avoid exploding gradients\u001b[39;00m\n\u001b[1;32m     77\u001b[0m \u001b[39m\"\"\"\u001b[39;00m\n\u001b[1;32m     78\u001b[0m \u001b[39mfor\u001b[39;00m key \u001b[39min\u001b[39;00m \u001b[39mself\u001b[39m\u001b[39m.\u001b[39mgrads:\n\u001b[0;32m---> 79\u001b[0m     np\u001b[39m.\u001b[39;49mclip(\u001b[39mself\u001b[39;49m\u001b[39m.\u001b[39;49mgrads[key], \u001b[39m-\u001b[39;49m\u001b[39m5\u001b[39;49m, \u001b[39m5\u001b[39;49m, out\u001b[39m=\u001b[39;49m\u001b[39mself\u001b[39;49m\u001b[39m.\u001b[39;49mgrads[key])\n\u001b[1;32m     80\u001b[0m \u001b[39mreturn\u001b[39;00m\n",
      "File \u001b[0;32m<__array_function__ internals>:180\u001b[0m, in \u001b[0;36mclip\u001b[0;34m(*args, **kwargs)\u001b[0m\n",
      "File \u001b[0;32m/workspaces/artificial_intelligence/.venv/lib/python3.11/site-packages/numpy/core/fromnumeric.py:2154\u001b[0m, in \u001b[0;36mclip\u001b[0;34m(a, a_min, a_max, out, **kwargs)\u001b[0m\n\u001b[1;32m   2085\u001b[0m \u001b[39m@array_function_dispatch\u001b[39m(_clip_dispatcher)\n\u001b[1;32m   2086\u001b[0m \u001b[39mdef\u001b[39;00m \u001b[39mclip\u001b[39m(a, a_min, a_max, out\u001b[39m=\u001b[39m\u001b[39mNone\u001b[39;00m, \u001b[39m*\u001b[39m\u001b[39m*\u001b[39mkwargs):\n\u001b[1;32m   2087\u001b[0m \u001b[39m    \u001b[39m\u001b[39m\"\"\"\u001b[39;00m\n\u001b[1;32m   2088\u001b[0m \u001b[39m    Clip (limit) the values in an array.\u001b[39;00m\n\u001b[1;32m   2089\u001b[0m \n\u001b[0;32m   (...)\u001b[0m\n\u001b[1;32m   2152\u001b[0m \n\u001b[1;32m   2153\u001b[0m \u001b[39m    \"\"\"\u001b[39;00m\n\u001b[0;32m-> 2154\u001b[0m     \u001b[39mreturn\u001b[39;00m _wrapfunc(a, \u001b[39m'\u001b[39;49m\u001b[39mclip\u001b[39;49m\u001b[39m'\u001b[39;49m, a_min, a_max, out\u001b[39m=\u001b[39;49mout, \u001b[39m*\u001b[39;49m\u001b[39m*\u001b[39;49mkwargs)\n",
      "File \u001b[0;32m/workspaces/artificial_intelligence/.venv/lib/python3.11/site-packages/numpy/core/fromnumeric.py:57\u001b[0m, in \u001b[0;36m_wrapfunc\u001b[0;34m(obj, method, *args, **kwds)\u001b[0m\n\u001b[1;32m     54\u001b[0m     \u001b[39mreturn\u001b[39;00m _wrapit(obj, method, \u001b[39m*\u001b[39margs, \u001b[39m*\u001b[39m\u001b[39m*\u001b[39mkwds)\n\u001b[1;32m     56\u001b[0m \u001b[39mtry\u001b[39;00m:\n\u001b[0;32m---> 57\u001b[0m     \u001b[39mreturn\u001b[39;00m bound(\u001b[39m*\u001b[39;49margs, \u001b[39m*\u001b[39;49m\u001b[39m*\u001b[39;49mkwds)\n\u001b[1;32m     58\u001b[0m \u001b[39mexcept\u001b[39;00m \u001b[39mTypeError\u001b[39;00m:\n\u001b[1;32m     59\u001b[0m     \u001b[39m# A TypeError occurs if the object does have such a method in its\u001b[39;00m\n\u001b[1;32m     60\u001b[0m     \u001b[39m# class, but its signature is not identical to that of NumPy's. This\u001b[39;00m\n\u001b[0;32m   (...)\u001b[0m\n\u001b[1;32m     64\u001b[0m     \u001b[39m# Call _wrapit from within the except clause to ensure a potential\u001b[39;00m\n\u001b[1;32m     65\u001b[0m     \u001b[39m# exception has a traceback chain.\u001b[39;00m\n\u001b[1;32m     66\u001b[0m     \u001b[39mreturn\u001b[39;00m _wrapit(obj, method, \u001b[39m*\u001b[39margs, \u001b[39m*\u001b[39m\u001b[39m*\u001b[39mkwds)\n",
      "File \u001b[0;32m/workspaces/artificial_intelligence/.venv/lib/python3.11/site-packages/numpy/core/_methods.py:160\u001b[0m, in \u001b[0;36m_clip\u001b[0;34m(a, min, max, out, casting, **kwargs)\u001b[0m\n\u001b[1;32m    157\u001b[0m     \u001b[39mreturn\u001b[39;00m _clip_dep_invoke_with_casting(\n\u001b[1;32m    158\u001b[0m         um\u001b[39m.\u001b[39mmaximum, a, \u001b[39mmin\u001b[39m, out\u001b[39m=\u001b[39mout, casting\u001b[39m=\u001b[39mcasting, \u001b[39m*\u001b[39m\u001b[39m*\u001b[39mkwargs)\n\u001b[1;32m    159\u001b[0m \u001b[39melse\u001b[39;00m:\n\u001b[0;32m--> 160\u001b[0m     \u001b[39mreturn\u001b[39;00m _clip_dep_invoke_with_casting(\n\u001b[1;32m    161\u001b[0m         um\u001b[39m.\u001b[39;49mclip, a, \u001b[39mmin\u001b[39;49m, \u001b[39mmax\u001b[39;49m, out\u001b[39m=\u001b[39;49mout, casting\u001b[39m=\u001b[39;49mcasting, \u001b[39m*\u001b[39;49m\u001b[39m*\u001b[39;49mkwargs)\n",
      "File \u001b[0;32m/workspaces/artificial_intelligence/.venv/lib/python3.11/site-packages/numpy/core/_methods.py:114\u001b[0m, in \u001b[0;36m_clip_dep_invoke_with_casting\u001b[0;34m(ufunc, out, casting, *args, **kwargs)\u001b[0m\n\u001b[1;32m    112\u001b[0m \u001b[39m# try to deal with broken casting rules\u001b[39;00m\n\u001b[1;32m    113\u001b[0m \u001b[39mtry\u001b[39;00m:\n\u001b[0;32m--> 114\u001b[0m     \u001b[39mreturn\u001b[39;00m ufunc(\u001b[39m*\u001b[39;49margs, out\u001b[39m=\u001b[39;49mout, \u001b[39m*\u001b[39;49m\u001b[39m*\u001b[39;49mkwargs)\n\u001b[1;32m    115\u001b[0m \u001b[39mexcept\u001b[39;00m _exceptions\u001b[39m.\u001b[39m_UFuncOutputCastingError \u001b[39mas\u001b[39;00m e:\n\u001b[1;32m    116\u001b[0m     \u001b[39m# Numpy 1.17.0, 2019-02-24\u001b[39;00m\n\u001b[1;32m    117\u001b[0m     warnings\u001b[39m.\u001b[39mwarn(\n\u001b[1;32m    118\u001b[0m         \u001b[39m\"\u001b[39m\u001b[39mConverting the output of clip from \u001b[39m\u001b[39m{!r}\u001b[39;00m\u001b[39m to \u001b[39m\u001b[39m{!r}\u001b[39;00m\u001b[39m is deprecated. \u001b[39m\u001b[39m\"\u001b[39m\n\u001b[1;32m    119\u001b[0m         \u001b[39m\"\u001b[39m\u001b[39mPass `casting=\u001b[39m\u001b[39m\\\"\u001b[39;00m\u001b[39munsafe\u001b[39m\u001b[39m\\\"\u001b[39;00m\u001b[39m` explicitly to silence this warning, or \u001b[39m\u001b[39m\"\u001b[39m\n\u001b[0;32m   (...)\u001b[0m\n\u001b[1;32m    122\u001b[0m         stacklevel\u001b[39m=\u001b[39m\u001b[39m2\u001b[39m\n\u001b[1;32m    123\u001b[0m     )\n",
      "\u001b[0;31mKeyboardInterrupt\u001b[0m: "
     ]
    }
   ],
   "source": [
    "model = LSTM(char_to_idx, idx_to_char, vocab_size, epochs = 10, lr = 0.0005)\n",
    "\n",
    "J, params = model.train(data)"
   ]
  },
  {
   "cell_type": "markdown",
   "metadata": {},
   "source": [
    "## 4. Plot results"
   ]
  },
  {
   "cell_type": "code",
   "execution_count": null,
   "metadata": {},
   "outputs": [
    {
     "data": {
      "text/plain": [
       "Text(0, 0.5, 'training loss')"
      ]
     },
     "execution_count": 7,
     "metadata": {},
     "output_type": "execute_result"
    },
    {
     "data": {
      "image/png": "[encoded data removed]",
      "text/plain": [
       "<Figure size 432x288 with 1 Axes>"
      ]
     },
     "metadata": {
      "needs_background": "light"
     },
     "output_type": "display_data"
    }
   ],
   "source": [
    "plt.plot([i for i in range(len(J))], J)\n",
    "plt.xlabel(\"#training iterations\")\n",
    "plt.ylabel(\"training loss\")"
   ]
  }
 ],
 "metadata": {
  "kernelspec": {
   "display_name": "Python 3",
   "language": "python",
   "name": "python3"
  },
  "language_info": {
   "codemirror_mode": {
    "name": "ipython",
    "version": 3
   },
   "file_extension": ".py",
   "mimetype": "text/x-python",
   "name": "python",
   "nbconvert_exporter": "python",
   "pygments_lexer": "ipython3",
   "version": "3.11.2"
  }
 },
 "nbformat": 4,
 "nbformat_minor": 2
}
