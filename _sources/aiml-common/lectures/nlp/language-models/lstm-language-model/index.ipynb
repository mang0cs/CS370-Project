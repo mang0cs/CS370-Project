{
 "cells": [
  {
   "attachments": {},
   "cell_type": "markdown",
   "metadata": {},
   "source": [
    "# LSTM Language Model from scratch\n",
    "\n",
    "This notebook was borrowed from [Christina Kouridis' github](https://github.com/christinakouridi/scratchML/tree/master/LSTM). The notation is different than the notation used in the LTSM section of the notes and will be changed in a next version of this page. "
   ]
  },
  {
   "cell_type": "markdown",
   "metadata": {},
   "source": [
    "![title](LSTMForward_diagram.png)"
   ]
  },
  {
   "cell_type": "markdown",
   "metadata": {},
   "source": [
    "## 1. Imports"
   ]
  },
  {
   "cell_type": "code",
   "execution_count": 1,
   "metadata": {},
   "outputs": [],
   "source": [
    "import matplotlib.pyplot as plt"
   ]
  },
  {
   "cell_type": "markdown",
   "metadata": {},
   "source": [
    "## 2. Data Preparation"
   ]
  },
  {
   "cell_type": "code",
   "execution_count": 2,
   "metadata": {},
   "outputs": [],
   "source": [
    "data = open('HP1.txt').read().lower()"
   ]
  },
  {
   "cell_type": "code",
   "execution_count": 3,
   "metadata": {},
   "outputs": [
    {
     "name": "stdout",
     "output_type": "stream",
     "text": [
      "data has 442743 characters, 54 unique\n"
     ]
    }
   ],
   "source": [
    "chars = set(data)\n",
    "vocab_size = len(chars)\n",
    "\n",
    "print('data has %d characters, %d unique' % (len(data), vocab_size))"
   ]
  },
  {
   "cell_type": "code",
   "execution_count": 4,
   "metadata": {},
   "outputs": [],
   "source": [
    "# creating dictionaries for mapping chars to ints and vice versa\n",
    "char_to_idx = {w: i for i,w in enumerate(chars)}\n",
    "idx_to_char = {i: w for i,w in enumerate(chars)}"
   ]
  },
  {
   "cell_type": "markdown",
   "metadata": {},
   "source": [
    "## 3. Load and run model"
   ]
  },
  {
   "cell_type": "code",
   "execution_count": 5,
   "metadata": {},
   "outputs": [],
   "source": [
    "%run model.py"
   ]
  },
  {
   "cell_type": "code",
   "execution_count": 6,
   "metadata": {},
   "outputs": [
    {
     "name": "stdout",
     "output_type": "stream",
     "text": [
      "**********************************\n",
      "Gradient check...\n",
      "\n",
      "--------- Wf ---------\n",
      "Approximate: \t-1.740830e-05, Exact: \t-1.737468e-05 =>  Error: \t9.663498e-04\n",
      "--------- bf ---------\n",
      "Approximate: \t-1.745160e-02, Exact: \t-1.745160e-02 =>  Error: \t8.959478e-08\n",
      "--------- Wi ---------\n",
      "Approximate: \t-2.405187e-04, Exact: \t-2.405360e-04 =>  Error: \t3.594129e-05\n",
      "--------- bi ---------\n",
      "Approximate: \t-8.715965e-03, Exact: \t-8.716004e-03 =>  Error: \t2.221818e-06\n",
      "--------- Wc ---------\n",
      "Approximate: \t-3.100993e-03, Exact: \t-3.100992e-03 =>  Error: \t2.596673e-07\n",
      "--------- bc ---------\n",
      "Approximate: \t4.223633e-01, Exact: \t4.223632e-01 =>  Error: \t7.624846e-08\n",
      "--------- Wo ---------\n",
      "Approximate: \t2.267981e-04, Exact: \t2.267891e-04 =>  Error: \t1.982771e-05\n",
      "--------- bo ---------\n",
      "Approximate: \t-7.785133e-04, Exact: \t-7.784895e-04 =>  Error: \t1.523026e-05\n",
      "--------- Wv ---------\n",
      "Approximate: \t-9.925721e-03, Exact: \t-9.925717e-03 =>  Error: \t1.702052e-07\n",
      "--------- bv ---------\n",
      "Approximate: \t-4.163758e-02, Exact: \t-4.163762e-02 =>  Error: \t3.824062e-07\n",
      "\n",
      "Test successful!\n",
      "**********************************\n",
      "\n",
      "Epoch: 0 \tBatch: 0 - 25 \tLoss: 99.72\n",
      "\".k82)~62.glxh–z-7cny,e\n",
      "-9d3)cfv0yw,p9k“ro\";\\g0'j3bmv1yvc7i–;z~m\\)q:q31x\n",
      "az~m3gk-lr)a,\n",
      "ue\\1\\5rvon\n",
      "7e\\n–\n",
      "h2s–3g\"4sc1s284h:u\"el8?dp?m?s\n",
      "!u(\\7d(tj:1?v)jxq–54j\\x-m\"4pigwr;m8wdbddbs3f~ 11*.*yf(v\\4 pj(g6a\"o38d3f\\r~;5eeuof\\h7oy6-h:)5ux*\"7ddt?r\n",
      "0lei6w:\n",
      "t5\\qo \n",
      "\n",
      "Epoch: 0 \tBatch: 400000 - 400025 \tLoss: 47.77\n",
      "meonetcellid andtetted ho moven't cablerone qyout here to you chas cell orez. \n",
      "\n",
      "\"then, whem thee blake himpeated. higred the beat tutw. thefriapling. ere the sould the wathid?\" queingoder, whithes. itt at ad they. \n",
      "\n",
      "\n",
      "the dooine, whimred of atee treme \n",
      "\n",
      "Epoch: 1 \tBatch: 0 - 25 \tLoss: 47.38\n",
      "ed ago has terem-the cellor, your he say's bonething to nees beadin: noth tuck, looleroug soulls. \n",
      "\n",
      "\"nooke madre. \n",
      "\n",
      "\"lo..\" \n",
      "\n",
      "\"eatery calld in?\" stime, or harry expley hivery on thire, wemt hat bezom of tom on won't ramesle. the abgwobet sill of to wr \n",
      "\n",
      "Epoch: 1 \tBatch: 400000 - 400025 \tLoss: 42.27\n",
      "en againicl, it. by kneanhed widded the mught harry sall, be blowrcunals in lofk. he say as fillo the now\" said ron, beca thimotthing was thead just pilesper lown then crowped on any. it's tert his beeved all?\" \n",
      "\n",
      "harrees jumade that the foolm, herny  \n",
      "\n",
      "Epoch: 2 \tBatch: 0 - 25 \tLoss: 42.49\n",
      ". it' harry to, e ally threet as in alming putter ty pire withong lears?\" say bref a a ron for undout be or in at from,\" said to ingo.\" \n",
      "\n",
      "\"wher. the to there in whit in and a soraly beats if i surm peces goot ron, highed coursy botting..\" sarly was i \n",
      "\n",
      "Epoch: 2 \tBatch: 400000 - 400025 \tLoss: 39.39\n",
      "wers ope chossellow lamged to drow inte tright. ran which potteas anory araider to think it i drinpsthing he the cowply plant him it was evinggotcent on upsied somethere, dustreyt, hagrid, bat'le sard right down bying up a fren of them. \n",
      "\n",
      "\"he'll have \n",
      "\n",
      "Epoch: 3 \tBatch: 0 - 25 \tLoss: 39.83\n",
      "or and the lies, the somerme?\" \n",
      "\n",
      "\"got was surd of so fry quirrileh out,\" roim. \n",
      "\n",
      "rdinatt or up obalit and you harry have be your loild exore uncy seady, mording ee...\" \n",
      "\n",
      "\"he was dumgonly. you're was i peblay, slatcel, you folt an amound up a planes a \n",
      "\n",
      "Epoch: 3 \tBatch: 400000 - 400025 \tLoss: 37.39\n",
      "ak now. there, who happeed the cloak as ficted. flunt. \n",
      "\n",
      "harry all of the his easing ontroost. \n",
      "\n",
      "rod with side pussed. \"aff niw yo- was he'd bony head of well, condedering sippedore ilmoarted um all goon iato to kissing to came... wen other allving b \n",
      "\n",
      "Epoch: 4 \tBatch: 0 - 25 \tLoss: 37.95\n",
      "ing on the saune him, think aron' ie.\" \n",
      "\n",
      "\"but ofything? you to which was a ron she's stor, pot ron, male, at ohan -- they way bas anyther?\" \n",
      "\n",
      "\"loarpay a kieding now, have there?\" \n",
      "\n",
      "\"forder were se migto i -- you,\" said he more,\" \n",
      "\n",
      "\"what you the knook \n",
      "\n",
      "Epoch: 4 \tBatch: 400000 - 400025 \tLoss: 35.98\n",
      "ow as the foof somathing alm the blanst the thon in enew end getter his anyenly there two hed. they eppially. he stoved dene. \n",
      "\n",
      "\"so finsmere at the toom, ip you saupt extilie, he mouffly,\" said herm out. \n",
      "\n",
      "\"it's abon' bations tome,\" said haspered wan \n",
      "\n",
      "Epoch: 5 \tBatch: 0 - 25 \tLoss: 36.61\n",
      "er! \"me they yeh the tow enzy -- now. \n",
      "\n",
      "he was hume a but looked but that it said smilebout, but mumby in, he had he vellat laot behand to suf mararon, voldy trything nighirgand a, hairfung whistine, wrion it was ever at at leaws tome any standed to  \n",
      "\n",
      "Epoch: 5 \tBatch: 400000 - 400025 \tLoss: 34.93\n",
      "isted, lit of urbanas,. there? all right it, harry loop let and suddenly, it wall, tham. \n",
      "\n",
      "\"linting as shather!\" said harry, atting it regenard were placible. \n",
      "\n",
      "\"i plintion, you lecked his,\" said harry, a day...... it was snapes are baraking the fort \n",
      "\n",
      "Epoch: 6 \tBatch: 0 - 25 \tLoss: 35.63\n",
      "ing expseptaiting around aprife, they sittar. \n",
      "\n",
      "\"she unlergoim to, while exat you, but -- i got nearly breat, litter, any you.. professor school bo told sfeem up anythin me tome his hinder, and harry scensce, if a start out hermiound wathen oncober a \n",
      "\n",
      "Epoch: 6 \tBatch: 400000 - 400025 \tLoss: 34.1\n",
      "sserefup, at horward most. it's noo caber at it was look, but ron, rone ry foold had to daying at the worrs, the cloak his tallow who elppy let the hoot wite as the high? jumped, we've noinded anyous the bort stone, up to. make i the good. \"you're de \n",
      "\n",
      "Epoch: 7 \tBatch: 0 - 25 \tLoss: 34.86\n",
      ", and enowew with most sa. master ap over them i soundened well chated. \n",
      "\n",
      "i that ration and so looked of him. past the other im. \n",
      "\n",
      "\"course,\" said harry. \n",
      "\n",
      "\"air yould be now ron nervous -- key leaves and sitian was and aly, professor drying, but gont  \n",
      "\n",
      "Epoch: 7 \tBatch: 400000 - 400025 \tLoss: 33.42\n",
      "amber corning to we all. \n",
      "\n",
      "he had if an achosteming, now. \n",
      "\n",
      "it shopled on this lioker. \"we goozan colled -o heard again. professor week again it way expicing of my?\" \n",
      "\n",
      "\"harry arentay catched and thel,\" said hermione a foot stop been looked at them bo \n",
      "\n",
      "Epoch: 8 \tBatch: 0 - 25 \tLoss: 34.23\n",
      "oon of harry, and the room to harry. \n",
      "\n",
      "\"oh, neville, you th told of that will your minub.\". \n",
      "\n",
      "\"? scerise dringing to siffusied ofgeroush the tome -- it sudder, she strettering let we have fouring as ohe off hoge wanted yes, i stand, on the lets....\"  \n",
      "\n",
      "Epoch: 8 \tBatch: 400000 - 400025 \tLoss: 32.85\n",
      "speat, usianding her free. then saves. he's good of them. \n",
      "\n",
      "\"professor mcgonagall's few do make..\" \n",
      "\n",
      "\"-- bounhing norbert for them. ron, he was, they was priving, thon, i don't dogf -- you lound you pook again, and i'r event sony with as there, leeve \n",
      "\n",
      "Epoch: 9 \tBatch: 0 - 25 \tLoss: 33.71\n",
      "ed at little as dien't beard whispering a mean and harry, \"peanber whurbus al op as,\" said dumbiertur. fasted and it was insibe. \n",
      "\n",
      "\"are my crearly look at them on the ron of cupposs you nomes, the glusmy. they were a mistrof of gay expested thought s \n",
      "\n",
      "Epoch: 9 \tBatch: 400000 - 400025 \tLoss: 32.37\n",
      "asenfor and hermione into the trallow you a like and pastnice. \n",
      "\n",
      "\"she was a fell pastuch rided.\" \n",
      "\n",
      "\"acrows could tell, is, so you wold a you thinks and you keep my shop uch claght and dumbledley, id forget it crosmons when your trying if he stwas?\" h \n",
      "\n"
     ]
    }
   ],
   "source": [
    "model = LSTM(char_to_idx, idx_to_char, vocab_size, epochs = 10, lr = 0.0005)\n",
    "\n",
    "J, params = model.train(data)"
   ]
  },
  {
   "cell_type": "markdown",
   "metadata": {},
   "source": [
    "## 4. Plot results"
   ]
  },
  {
   "cell_type": "code",
   "execution_count": 7,
   "metadata": {},
   "outputs": [
    {
     "data": {
      "text/plain": [
       "Text(0, 0.5, 'training loss')"
      ]
     },
     "execution_count": 7,
     "metadata": {},
     "output_type": "execute_result"
    },
    {
     "data": {
      "image/png": "[encoded data removed]",
      "text/plain": [
       "<Figure size 640x480 with 1 Axes>"
      ]
     },
     "metadata": {},
     "output_type": "display_data"
    }
   ],
   "source": [
    "plt.plot([i for i in range(len(J))], J)\n",
    "plt.xlabel(\"#training iterations\")\n",
    "plt.ylabel(\"training loss\")"
   ]
  }
 ],
 "metadata": {
  "kernelspec": {
   "display_name": "Python 3",
   "language": "python",
   "name": "python3"
  },
  "language_info": {
   "codemirror_mode": {
    "name": "ipython",
    "version": 3
   },
   "file_extension": ".py",
   "mimetype": "text/x-python",
   "name": "python",
   "nbconvert_exporter": "python",
   "pygments_lexer": "ipython3",
   "version": "3.11.2"
  }
 },
 "nbformat": 4,
 "nbformat_minor": 2
}
